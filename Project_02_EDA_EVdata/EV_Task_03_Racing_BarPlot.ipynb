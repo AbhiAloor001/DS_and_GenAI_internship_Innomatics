{
  "nbformat": 4,
  "nbformat_minor": 0,
  "metadata": {
    "colab": {
      "provenance": [],
      "collapsed_sections": [
        "4cIujX4UVK-w"
      ]
    },
    "kernelspec": {
      "name": "python3",
      "display_name": "Python 3"
    },
    "language_info": {
      "name": "python"
    }
  },
  "cells": [
    {
      "cell_type": "markdown",
      "source": [
        "# **Electric Vehicle Analysis Project**\n"
      ],
      "metadata": {
        "id": "EaHXra3FUAeh"
      }
    },
    {
      "cell_type": "markdown",
      "source": [
        "## Task - 3 : **Racing Bar Plot**"
      ],
      "metadata": {
        "id": "RkZ1OkdvUJk5"
      }
    },
    {
      "cell_type": "markdown",
      "source": [
        "To implement and display the racing bar plot, we require bar-chart-race, **ffmpeg, matplotlib etc. in the back-end**. Since these are already available in Google colaboratory and since this project is mean for my learning purpose(Internship at Innomatics), I am using google colaboratory for this task. This notebook tilted **EV_Task_03_RacingBarPlot.ipynb** is written in Google colaboratory."
      ],
      "metadata": {
        "id": "co4UjiyHUSz7"
      }
    },
    {
      "cell_type": "markdown",
      "source": [
        "#### **Problem Statement**"
      ],
      "metadata": {
        "id": "4cIujX4UVK-w"
      }
    },
    {
      "cell_type": "markdown",
      "source": [
        "Create a Racing Bar Plot to display the animation of EV\n",
        "Make and its count each year."
      ],
      "metadata": {
        "id": "BO_Hw4HlVP3s"
      }
    },
    {
      "cell_type": "markdown",
      "source": [
        "#### **Step 1 : Preparing data for RB plot**"
      ],
      "metadata": {
        "id": "N1yNEL14VZ50"
      }
    },
    {
      "cell_type": "code",
      "execution_count": 1,
      "metadata": {
        "id": "MriJk8XHT0EC"
      },
      "outputs": [],
      "source": [
        "import pandas as pd"
      ]
    },
    {
      "cell_type": "code",
      "source": [
        "data = pd.read_csv('/content/EV_data.csv')\n",
        "data.head()"
      ],
      "metadata": {
        "colab": {
          "base_uri": "https://localhost:8080/",
          "height": 310
        },
        "id": "XcbOlG7DV5j_",
        "outputId": "b2fdc16b-6b19-4312-c8f6-d218ba4c19c3"
      },
      "execution_count": 2,
      "outputs": [
        {
          "output_type": "execute_result",
          "data": {
            "text/plain": [
              "   VIN (1-10) State  Model Year  Make     Model  \\\n",
              "0  1C4JJXP60M    Wa        2021  Jeep  Wrangler   \n",
              "1  1C4JJXP60N    Wa        2022  Jeep  Wrangler   \n",
              "2  1C4JJXP61M    Wa        2021  Jeep  Wrangler   \n",
              "3  1C4JJXP61N    Wa        2022  Jeep  Wrangler   \n",
              "4  1C4JJXP62M    Wa        2021  Jeep  Wrangler   \n",
              "\n",
              "                    Electric Vehicle Type  \\\n",
              "0  Plug-In Hybrid Electric Vehicle (Phev)   \n",
              "1  Plug-In Hybrid Electric Vehicle (Phev)   \n",
              "2  Plug-In Hybrid Electric Vehicle (Phev)   \n",
              "3  Plug-In Hybrid Electric Vehicle (Phev)   \n",
              "4  Plug-In Hybrid Electric Vehicle (Phev)   \n",
              "\n",
              "  Clean Alternative Fuel Vehicle (CAFV) Eligibility  Electric Range  \\\n",
              "0             Not Eligible Due To Low Battery Range              25   \n",
              "1             Not Eligible Due To Low Battery Range              21   \n",
              "2             Not Eligible Due To Low Battery Range              25   \n",
              "3             Not Eligible Due To Low Battery Range              21   \n",
              "4             Not Eligible Due To Low Battery Range              25   \n",
              "\n",
              "   Base MSRP  charge_freq  \n",
              "0          0           34  \n",
              "1          0           26  \n",
              "2          0           44  \n",
              "3          0           32  \n",
              "4          0           36  "
            ],
            "text/html": [
              "\n",
              "  <div id=\"df-e00f48cf-d727-4a21-b22b-3270d032de0f\" class=\"colab-df-container\">\n",
              "    <div>\n",
              "<style scoped>\n",
              "    .dataframe tbody tr th:only-of-type {\n",
              "        vertical-align: middle;\n",
              "    }\n",
              "\n",
              "    .dataframe tbody tr th {\n",
              "        vertical-align: top;\n",
              "    }\n",
              "\n",
              "    .dataframe thead th {\n",
              "        text-align: right;\n",
              "    }\n",
              "</style>\n",
              "<table border=\"1\" class=\"dataframe\">\n",
              "  <thead>\n",
              "    <tr style=\"text-align: right;\">\n",
              "      <th></th>\n",
              "      <th>VIN (1-10)</th>\n",
              "      <th>State</th>\n",
              "      <th>Model Year</th>\n",
              "      <th>Make</th>\n",
              "      <th>Model</th>\n",
              "      <th>Electric Vehicle Type</th>\n",
              "      <th>Clean Alternative Fuel Vehicle (CAFV) Eligibility</th>\n",
              "      <th>Electric Range</th>\n",
              "      <th>Base MSRP</th>\n",
              "      <th>charge_freq</th>\n",
              "    </tr>\n",
              "  </thead>\n",
              "  <tbody>\n",
              "    <tr>\n",
              "      <th>0</th>\n",
              "      <td>1C4JJXP60M</td>\n",
              "      <td>Wa</td>\n",
              "      <td>2021</td>\n",
              "      <td>Jeep</td>\n",
              "      <td>Wrangler</td>\n",
              "      <td>Plug-In Hybrid Electric Vehicle (Phev)</td>\n",
              "      <td>Not Eligible Due To Low Battery Range</td>\n",
              "      <td>25</td>\n",
              "      <td>0</td>\n",
              "      <td>34</td>\n",
              "    </tr>\n",
              "    <tr>\n",
              "      <th>1</th>\n",
              "      <td>1C4JJXP60N</td>\n",
              "      <td>Wa</td>\n",
              "      <td>2022</td>\n",
              "      <td>Jeep</td>\n",
              "      <td>Wrangler</td>\n",
              "      <td>Plug-In Hybrid Electric Vehicle (Phev)</td>\n",
              "      <td>Not Eligible Due To Low Battery Range</td>\n",
              "      <td>21</td>\n",
              "      <td>0</td>\n",
              "      <td>26</td>\n",
              "    </tr>\n",
              "    <tr>\n",
              "      <th>2</th>\n",
              "      <td>1C4JJXP61M</td>\n",
              "      <td>Wa</td>\n",
              "      <td>2021</td>\n",
              "      <td>Jeep</td>\n",
              "      <td>Wrangler</td>\n",
              "      <td>Plug-In Hybrid Electric Vehicle (Phev)</td>\n",
              "      <td>Not Eligible Due To Low Battery Range</td>\n",
              "      <td>25</td>\n",
              "      <td>0</td>\n",
              "      <td>44</td>\n",
              "    </tr>\n",
              "    <tr>\n",
              "      <th>3</th>\n",
              "      <td>1C4JJXP61N</td>\n",
              "      <td>Wa</td>\n",
              "      <td>2022</td>\n",
              "      <td>Jeep</td>\n",
              "      <td>Wrangler</td>\n",
              "      <td>Plug-In Hybrid Electric Vehicle (Phev)</td>\n",
              "      <td>Not Eligible Due To Low Battery Range</td>\n",
              "      <td>21</td>\n",
              "      <td>0</td>\n",
              "      <td>32</td>\n",
              "    </tr>\n",
              "    <tr>\n",
              "      <th>4</th>\n",
              "      <td>1C4JJXP62M</td>\n",
              "      <td>Wa</td>\n",
              "      <td>2021</td>\n",
              "      <td>Jeep</td>\n",
              "      <td>Wrangler</td>\n",
              "      <td>Plug-In Hybrid Electric Vehicle (Phev)</td>\n",
              "      <td>Not Eligible Due To Low Battery Range</td>\n",
              "      <td>25</td>\n",
              "      <td>0</td>\n",
              "      <td>36</td>\n",
              "    </tr>\n",
              "  </tbody>\n",
              "</table>\n",
              "</div>\n",
              "    <div class=\"colab-df-buttons\">\n",
              "\n",
              "  <div class=\"colab-df-container\">\n",
              "    <button class=\"colab-df-convert\" onclick=\"convertToInteractive('df-e00f48cf-d727-4a21-b22b-3270d032de0f')\"\n",
              "            title=\"Convert this dataframe to an interactive table.\"\n",
              "            style=\"display:none;\">\n",
              "\n",
              "  <svg xmlns=\"http://www.w3.org/2000/svg\" height=\"24px\" viewBox=\"0 -960 960 960\">\n",
              "    <path d=\"M120-120v-720h720v720H120Zm60-500h600v-160H180v160Zm220 220h160v-160H400v160Zm0 220h160v-160H400v160ZM180-400h160v-160H180v160Zm440 0h160v-160H620v160ZM180-180h160v-160H180v160Zm440 0h160v-160H620v160Z\"/>\n",
              "  </svg>\n",
              "    </button>\n",
              "\n",
              "  <style>\n",
              "    .colab-df-container {\n",
              "      display:flex;\n",
              "      gap: 12px;\n",
              "    }\n",
              "\n",
              "    .colab-df-convert {\n",
              "      background-color: #E8F0FE;\n",
              "      border: none;\n",
              "      border-radius: 50%;\n",
              "      cursor: pointer;\n",
              "      display: none;\n",
              "      fill: #1967D2;\n",
              "      height: 32px;\n",
              "      padding: 0 0 0 0;\n",
              "      width: 32px;\n",
              "    }\n",
              "\n",
              "    .colab-df-convert:hover {\n",
              "      background-color: #E2EBFA;\n",
              "      box-shadow: 0px 1px 2px rgba(60, 64, 67, 0.3), 0px 1px 3px 1px rgba(60, 64, 67, 0.15);\n",
              "      fill: #174EA6;\n",
              "    }\n",
              "\n",
              "    .colab-df-buttons div {\n",
              "      margin-bottom: 4px;\n",
              "    }\n",
              "\n",
              "    [theme=dark] .colab-df-convert {\n",
              "      background-color: #3B4455;\n",
              "      fill: #D2E3FC;\n",
              "    }\n",
              "\n",
              "    [theme=dark] .colab-df-convert:hover {\n",
              "      background-color: #434B5C;\n",
              "      box-shadow: 0px 1px 3px 1px rgba(0, 0, 0, 0.15);\n",
              "      filter: drop-shadow(0px 1px 2px rgba(0, 0, 0, 0.3));\n",
              "      fill: #FFFFFF;\n",
              "    }\n",
              "  </style>\n",
              "\n",
              "    <script>\n",
              "      const buttonEl =\n",
              "        document.querySelector('#df-e00f48cf-d727-4a21-b22b-3270d032de0f button.colab-df-convert');\n",
              "      buttonEl.style.display =\n",
              "        google.colab.kernel.accessAllowed ? 'block' : 'none';\n",
              "\n",
              "      async function convertToInteractive(key) {\n",
              "        const element = document.querySelector('#df-e00f48cf-d727-4a21-b22b-3270d032de0f');\n",
              "        const dataTable =\n",
              "          await google.colab.kernel.invokeFunction('convertToInteractive',\n",
              "                                                    [key], {});\n",
              "        if (!dataTable) return;\n",
              "\n",
              "        const docLinkHtml = 'Like what you see? Visit the ' +\n",
              "          '<a target=\"_blank\" href=https://colab.research.google.com/notebooks/data_table.ipynb>data table notebook</a>'\n",
              "          + ' to learn more about interactive tables.';\n",
              "        element.innerHTML = '';\n",
              "        dataTable['output_type'] = 'display_data';\n",
              "        await google.colab.output.renderOutput(dataTable, element);\n",
              "        const docLink = document.createElement('div');\n",
              "        docLink.innerHTML = docLinkHtml;\n",
              "        element.appendChild(docLink);\n",
              "      }\n",
              "    </script>\n",
              "  </div>\n",
              "\n",
              "\n",
              "<div id=\"df-7acd70b7-123a-4575-a05f-22a76a3155d9\">\n",
              "  <button class=\"colab-df-quickchart\" onclick=\"quickchart('df-7acd70b7-123a-4575-a05f-22a76a3155d9')\"\n",
              "            title=\"Suggest charts\"\n",
              "            style=\"display:none;\">\n",
              "\n",
              "<svg xmlns=\"http://www.w3.org/2000/svg\" height=\"24px\"viewBox=\"0 0 24 24\"\n",
              "     width=\"24px\">\n",
              "    <g>\n",
              "        <path d=\"M19 3H5c-1.1 0-2 .9-2 2v14c0 1.1.9 2 2 2h14c1.1 0 2-.9 2-2V5c0-1.1-.9-2-2-2zM9 17H7v-7h2v7zm4 0h-2V7h2v10zm4 0h-2v-4h2v4z\"/>\n",
              "    </g>\n",
              "</svg>\n",
              "  </button>\n",
              "\n",
              "<style>\n",
              "  .colab-df-quickchart {\n",
              "      --bg-color: #E8F0FE;\n",
              "      --fill-color: #1967D2;\n",
              "      --hover-bg-color: #E2EBFA;\n",
              "      --hover-fill-color: #174EA6;\n",
              "      --disabled-fill-color: #AAA;\n",
              "      --disabled-bg-color: #DDD;\n",
              "  }\n",
              "\n",
              "  [theme=dark] .colab-df-quickchart {\n",
              "      --bg-color: #3B4455;\n",
              "      --fill-color: #D2E3FC;\n",
              "      --hover-bg-color: #434B5C;\n",
              "      --hover-fill-color: #FFFFFF;\n",
              "      --disabled-bg-color: #3B4455;\n",
              "      --disabled-fill-color: #666;\n",
              "  }\n",
              "\n",
              "  .colab-df-quickchart {\n",
              "    background-color: var(--bg-color);\n",
              "    border: none;\n",
              "    border-radius: 50%;\n",
              "    cursor: pointer;\n",
              "    display: none;\n",
              "    fill: var(--fill-color);\n",
              "    height: 32px;\n",
              "    padding: 0;\n",
              "    width: 32px;\n",
              "  }\n",
              "\n",
              "  .colab-df-quickchart:hover {\n",
              "    background-color: var(--hover-bg-color);\n",
              "    box-shadow: 0 1px 2px rgba(60, 64, 67, 0.3), 0 1px 3px 1px rgba(60, 64, 67, 0.15);\n",
              "    fill: var(--button-hover-fill-color);\n",
              "  }\n",
              "\n",
              "  .colab-df-quickchart-complete:disabled,\n",
              "  .colab-df-quickchart-complete:disabled:hover {\n",
              "    background-color: var(--disabled-bg-color);\n",
              "    fill: var(--disabled-fill-color);\n",
              "    box-shadow: none;\n",
              "  }\n",
              "\n",
              "  .colab-df-spinner {\n",
              "    border: 2px solid var(--fill-color);\n",
              "    border-color: transparent;\n",
              "    border-bottom-color: var(--fill-color);\n",
              "    animation:\n",
              "      spin 1s steps(1) infinite;\n",
              "  }\n",
              "\n",
              "  @keyframes spin {\n",
              "    0% {\n",
              "      border-color: transparent;\n",
              "      border-bottom-color: var(--fill-color);\n",
              "      border-left-color: var(--fill-color);\n",
              "    }\n",
              "    20% {\n",
              "      border-color: transparent;\n",
              "      border-left-color: var(--fill-color);\n",
              "      border-top-color: var(--fill-color);\n",
              "    }\n",
              "    30% {\n",
              "      border-color: transparent;\n",
              "      border-left-color: var(--fill-color);\n",
              "      border-top-color: var(--fill-color);\n",
              "      border-right-color: var(--fill-color);\n",
              "    }\n",
              "    40% {\n",
              "      border-color: transparent;\n",
              "      border-right-color: var(--fill-color);\n",
              "      border-top-color: var(--fill-color);\n",
              "    }\n",
              "    60% {\n",
              "      border-color: transparent;\n",
              "      border-right-color: var(--fill-color);\n",
              "    }\n",
              "    80% {\n",
              "      border-color: transparent;\n",
              "      border-right-color: var(--fill-color);\n",
              "      border-bottom-color: var(--fill-color);\n",
              "    }\n",
              "    90% {\n",
              "      border-color: transparent;\n",
              "      border-bottom-color: var(--fill-color);\n",
              "    }\n",
              "  }\n",
              "</style>\n",
              "\n",
              "  <script>\n",
              "    async function quickchart(key) {\n",
              "      const quickchartButtonEl =\n",
              "        document.querySelector('#' + key + ' button');\n",
              "      quickchartButtonEl.disabled = true;  // To prevent multiple clicks.\n",
              "      quickchartButtonEl.classList.add('colab-df-spinner');\n",
              "      try {\n",
              "        const charts = await google.colab.kernel.invokeFunction(\n",
              "            'suggestCharts', [key], {});\n",
              "      } catch (error) {\n",
              "        console.error('Error during call to suggestCharts:', error);\n",
              "      }\n",
              "      quickchartButtonEl.classList.remove('colab-df-spinner');\n",
              "      quickchartButtonEl.classList.add('colab-df-quickchart-complete');\n",
              "    }\n",
              "    (() => {\n",
              "      let quickchartButtonEl =\n",
              "        document.querySelector('#df-7acd70b7-123a-4575-a05f-22a76a3155d9 button');\n",
              "      quickchartButtonEl.style.display =\n",
              "        google.colab.kernel.accessAllowed ? 'block' : 'none';\n",
              "    })();\n",
              "  </script>\n",
              "</div>\n",
              "\n",
              "    </div>\n",
              "  </div>\n"
            ],
            "application/vnd.google.colaboratory.intrinsic+json": {
              "type": "dataframe",
              "variable_name": "data",
              "summary": "{\n  \"name\": \"data\",\n  \"rows\": 7479,\n  \"fields\": [\n    {\n      \"column\": \"VIN (1-10)\",\n      \"properties\": {\n        \"dtype\": \"string\",\n        \"num_unique_values\": 7479,\n        \"samples\": [\n          \"JTDKARFP3L\",\n          \"WP0BA2Y10M\",\n          \"2C4RC1N78L\"\n        ],\n        \"semantic_type\": \"\",\n        \"description\": \"\"\n      }\n    },\n    {\n      \"column\": \"State\",\n      \"properties\": {\n        \"dtype\": \"category\",\n        \"num_unique_values\": 1,\n        \"samples\": [\n          \"Wa\"\n        ],\n        \"semantic_type\": \"\",\n        \"description\": \"\"\n      }\n    },\n    {\n      \"column\": \"Model Year\",\n      \"properties\": {\n        \"dtype\": \"number\",\n        \"std\": 3,\n        \"min\": 1997,\n        \"max\": 2023,\n        \"num_unique_values\": 19,\n        \"samples\": [\n          2021\n        ],\n        \"semantic_type\": \"\",\n        \"description\": \"\"\n      }\n    },\n    {\n      \"column\": \"Make\",\n      \"properties\": {\n        \"dtype\": \"category\",\n        \"num_unique_values\": 33,\n        \"samples\": [\n          \"Mini\"\n        ],\n        \"semantic_type\": \"\",\n        \"description\": \"\"\n      }\n    },\n    {\n      \"column\": \"Model\",\n      \"properties\": {\n        \"dtype\": \"category\",\n        \"num_unique_values\": 112,\n        \"samples\": [\n          \"R1s\"\n        ],\n        \"semantic_type\": \"\",\n        \"description\": \"\"\n      }\n    },\n    {\n      \"column\": \"Electric Vehicle Type\",\n      \"properties\": {\n        \"dtype\": \"category\",\n        \"num_unique_values\": 2,\n        \"samples\": [\n          \"Battery Electric Vehicle (Bev)\"\n        ],\n        \"semantic_type\": \"\",\n        \"description\": \"\"\n      }\n    },\n    {\n      \"column\": \"Clean Alternative Fuel Vehicle (CAFV) Eligibility\",\n      \"properties\": {\n        \"dtype\": \"category\",\n        \"num_unique_values\": 3,\n        \"samples\": [\n          \"Not Eligible Due To Low Battery Range\"\n        ],\n        \"semantic_type\": \"\",\n        \"description\": \"\"\n      }\n    },\n    {\n      \"column\": \"Electric Range\",\n      \"properties\": {\n        \"dtype\": \"number\",\n        \"std\": 84,\n        \"min\": 0,\n        \"max\": 337,\n        \"num_unique_values\": 100,\n        \"samples\": [\n          16\n        ],\n        \"semantic_type\": \"\",\n        \"description\": \"\"\n      }\n    },\n    {\n      \"column\": \"Base MSRP\",\n      \"properties\": {\n        \"dtype\": \"number\",\n        \"std\": 15109,\n        \"min\": 0,\n        \"max\": 98950,\n        \"num_unique_values\": 25,\n        \"samples\": [\n          33950\n        ],\n        \"semantic_type\": \"\",\n        \"description\": \"\"\n      }\n    },\n    {\n      \"column\": \"charge_freq\",\n      \"properties\": {\n        \"dtype\": \"number\",\n        \"std\": 37,\n        \"min\": 1,\n        \"max\": 471,\n        \"num_unique_values\": 217,\n        \"samples\": [\n          382\n        ],\n        \"semantic_type\": \"\",\n        \"description\": \"\"\n      }\n    }\n  ]\n}"
            }
          },
          "metadata": {},
          "execution_count": 2
        }
      ]
    },
    {
      "cell_type": "markdown",
      "source": [
        "Our focus will be the columns\n",
        "\n",
        "* Model Year\n",
        "* Make\n",
        "\n",
        "from the data dataframe"
      ],
      "metadata": {
        "id": "Hc1SViY-WJJi"
      }
    },
    {
      "cell_type": "code",
      "source": [
        "# formatting the columns of focus\n",
        "data['Make'] = data['Make'].str.strip().str.title()\n",
        "data['Model Year'] = pd.to_datetime(data['Model Year'], format='%Y', yearfirst=True)\n",
        "data['Model Year'] = data['Model Year'].dt.year"
      ],
      "metadata": {
        "id": "hd0hEDw9Wcof"
      },
      "execution_count": 3,
      "outputs": []
    },
    {
      "cell_type": "code",
      "source": [
        "data['Make'].unique()"
      ],
      "metadata": {
        "colab": {
          "base_uri": "https://localhost:8080/"
        },
        "id": "eIcVKBBYch81",
        "outputId": "f600a870-0fdc-4bfc-d416-585b64bddb17"
      },
      "execution_count": 4,
      "outputs": [
        {
          "output_type": "execute_result",
          "data": {
            "text/plain": [
              "array(['Jeep', 'Ford', 'Chevrolet', 'Cadillac', 'Nissan', 'Volkswagen',\n",
              "       'Chrysler', 'Toyota', 'Fiat', 'Bmw', 'Mercedes-Benz',\n",
              "       'Lucid Motors', 'Azure Dynamics', 'Th!Nk', 'Lincoln', 'Tesla',\n",
              "       'Rivian', 'Volvo', 'Mitsubishi', 'Subaru', 'Honda', 'Lexus',\n",
              "       'Hyundai', 'Genesis', 'Kia', 'Polestar', 'Jaguar', 'Land Rover',\n",
              "       'Bentley', 'Audi', 'Smart', 'Mini', 'Porsche'], dtype=object)"
            ]
          },
          "metadata": {},
          "execution_count": 4
        }
      ]
    },
    {
      "cell_type": "code",
      "source": [
        "top_makers = list(data['Make'].value_counts()[0:15].index)"
      ],
      "metadata": {
        "id": "8lEgHG1GctcK"
      },
      "execution_count": 5,
      "outputs": []
    },
    {
      "cell_type": "code",
      "source": [
        "# grouping the data based on Model Year and Make\n",
        "# finding number of EVs for each group\n",
        "grp = data[data['Make'].isin(top_makers)].groupby(['Model Year', 'Make']).size().reset_index(name='EV Count')"
      ],
      "metadata": {
        "id": "pdxUA4BEdLwp"
      },
      "execution_count": 6,
      "outputs": []
    },
    {
      "cell_type": "code",
      "source": [
        "# creating a wide-form of grp dataframe\n",
        "# to get year-wise count of vehicles for each of the manufacturers in Make column\n",
        "race_data = grp.pivot(index='Model Year', columns='Make', values='EV Count').fillna(0)"
      ],
      "metadata": {
        "id": "QuzGcyKTdI-E"
      },
      "execution_count": 7,
      "outputs": []
    },
    {
      "cell_type": "markdown",
      "source": [
        "#### **Step 2 : Creating the RB Plot**"
      ],
      "metadata": {
        "id": "v__44O-vYEg_"
      }
    },
    {
      "cell_type": "code",
      "source": [
        "!pip install bar-chart-race"
      ],
      "metadata": {
        "colab": {
          "base_uri": "https://localhost:8080/"
        },
        "id": "l1pIRLmgYyhW",
        "outputId": "a2628f8e-8713-4c4b-f438-f8ef6d40a3d9"
      },
      "execution_count": 8,
      "outputs": [
        {
          "output_type": "stream",
          "name": "stdout",
          "text": [
            "Collecting bar-chart-race\n",
            "  Downloading bar_chart_race-0.1.0-py3-none-any.whl.metadata (4.2 kB)\n",
            "Requirement already satisfied: pandas>=0.24 in /usr/local/lib/python3.10/dist-packages (from bar-chart-race) (2.2.2)\n",
            "Requirement already satisfied: matplotlib>=3.1 in /usr/local/lib/python3.10/dist-packages (from bar-chart-race) (3.7.1)\n",
            "Requirement already satisfied: contourpy>=1.0.1 in /usr/local/lib/python3.10/dist-packages (from matplotlib>=3.1->bar-chart-race) (1.3.0)\n",
            "Requirement already satisfied: cycler>=0.10 in /usr/local/lib/python3.10/dist-packages (from matplotlib>=3.1->bar-chart-race) (0.12.1)\n",
            "Requirement already satisfied: fonttools>=4.22.0 in /usr/local/lib/python3.10/dist-packages (from matplotlib>=3.1->bar-chart-race) (4.54.1)\n",
            "Requirement already satisfied: kiwisolver>=1.0.1 in /usr/local/lib/python3.10/dist-packages (from matplotlib>=3.1->bar-chart-race) (1.4.7)\n",
            "Requirement already satisfied: numpy>=1.20 in /usr/local/lib/python3.10/dist-packages (from matplotlib>=3.1->bar-chart-race) (1.26.4)\n",
            "Requirement already satisfied: packaging>=20.0 in /usr/local/lib/python3.10/dist-packages (from matplotlib>=3.1->bar-chart-race) (24.1)\n",
            "Requirement already satisfied: pillow>=6.2.0 in /usr/local/lib/python3.10/dist-packages (from matplotlib>=3.1->bar-chart-race) (10.4.0)\n",
            "Requirement already satisfied: pyparsing>=2.3.1 in /usr/local/lib/python3.10/dist-packages (from matplotlib>=3.1->bar-chart-race) (3.1.4)\n",
            "Requirement already satisfied: python-dateutil>=2.7 in /usr/local/lib/python3.10/dist-packages (from matplotlib>=3.1->bar-chart-race) (2.8.2)\n",
            "Requirement already satisfied: pytz>=2020.1 in /usr/local/lib/python3.10/dist-packages (from pandas>=0.24->bar-chart-race) (2024.2)\n",
            "Requirement already satisfied: tzdata>=2022.7 in /usr/local/lib/python3.10/dist-packages (from pandas>=0.24->bar-chart-race) (2024.2)\n",
            "Requirement already satisfied: six>=1.5 in /usr/local/lib/python3.10/dist-packages (from python-dateutil>=2.7->matplotlib>=3.1->bar-chart-race) (1.16.0)\n",
            "Downloading bar_chart_race-0.1.0-py3-none-any.whl (156 kB)\n",
            "\u001b[2K   \u001b[90m━━━━━━━━━━━━━━━━━━━━━━━━━━━━━━━━━━━━━━━━\u001b[0m \u001b[32m156.8/156.8 kB\u001b[0m \u001b[31m3.0 MB/s\u001b[0m eta \u001b[36m0:00:00\u001b[0m\n",
            "\u001b[?25hInstalling collected packages: bar-chart-race\n",
            "Successfully installed bar-chart-race-0.1.0\n"
          ]
        }
      ]
    },
    {
      "cell_type": "code",
      "source": [
        "import bar_chart_race as bcr"
      ],
      "metadata": {
        "id": "Oq5FhNFwYOJf"
      },
      "execution_count": 9,
      "outputs": []
    },
    {
      "cell_type": "code",
      "source": [
        "bcr.bar_chart_race(race_data,\n",
        "                   filename = \"evoutput.mp4\", # specify the filename and format for output chart video\n",
        "                   n_bars = 15, # number of bars to be displayed\n",
        "                   steps_per_period = 15,\n",
        "                   period_length = 1800,\n",
        "                   fixed_order = True, # for visibility purpose, fix the position of bars for all categories\n",
        "                   period_fmt = '{x:,.0f}',\n",
        "                   cmap = 'Accent',\n",
        "                   title_size = 20,\n",
        "                   title = 'Top 15 EV Makers over the Years')"
      ],
      "metadata": {
        "colab": {
          "base_uri": "https://localhost:8080/"
        },
        "id": "JKcwOu6MdnIx",
        "outputId": "37be15fd-2596-4c61-cda0-ca68bd337294"
      },
      "execution_count": 15,
      "outputs": [
        {
          "output_type": "stream",
          "name": "stderr",
          "text": [
            "/usr/local/lib/python3.10/dist-packages/bar_chart_race/_make_chart.py:889: FutureWarning: Series.fillna with 'method' is deprecated and will raise in a future version. Use obj.ffill() or obj.bfill() instead.\n",
            "  df_values.iloc[:, 0] = df_values.iloc[:, 0].fillna(method='ffill')\n",
            "/usr/local/lib/python3.10/dist-packages/bar_chart_race/_make_chart.py:286: UserWarning: FixedFormatter should only be used together with FixedLocator\n",
            "  ax.set_yticklabels(self.df_values.columns)\n",
            "/usr/local/lib/python3.10/dist-packages/bar_chart_race/_make_chart.py:287: UserWarning: FixedFormatter should only be used together with FixedLocator\n",
            "  ax.set_xticklabels([max_val] * len(ax.get_xticks()))\n"
          ]
        }
      ]
    }
  ]
}